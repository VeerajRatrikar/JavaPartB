{
 "cells": [
  {
   "cell_type": "code",
   "execution_count": 3,
   "id": "87a6dd88-0c5f-4276-b545-6baae90de41c",
   "metadata": {},
   "outputs": [
    {
     "name": "stdout",
     "output_type": "stream",
     "text": [
      "2,6,7,2,8,"
     ]
    },
    {
     "ename": "TypeError",
     "evalue": "'NoneType' object is not subscriptable",
     "output_type": "error",
     "traceback": [
      "\u001b[1;31m---------------------------------------------------------------------------\u001b[0m",
      "\u001b[1;31mTypeError\u001b[0m                                 Traceback (most recent call last)",
      "Cell \u001b[1;32mIn[3], line 32\u001b[0m\n\u001b[0;32m     26\u001b[0m     node\u001b[38;5;241m=\u001b[39m{\n\u001b[0;32m     27\u001b[0m         \u001b[38;5;124m\"\u001b[39m\u001b[38;5;124minfo\u001b[39m\u001b[38;5;124m\"\u001b[39m:item,\n\u001b[0;32m     28\u001b[0m         \u001b[38;5;124m\"\u001b[39m\u001b[38;5;124mlink\u001b[39m\u001b[38;5;124m\"\u001b[39m:\u001b[38;5;28;01mNone\u001b[39;00m\n\u001b[0;32m     29\u001b[0m     }\n\u001b[0;32m     30\u001b[0m     insert(node)\n\u001b[1;32m---> 32\u001b[0m \u001b[43mdisplay\u001b[49m\u001b[43m(\u001b[49m\u001b[43m)\u001b[49m\n",
      "Cell \u001b[1;32mIn[3], line 22\u001b[0m, in \u001b[0;36mdisplay\u001b[1;34m()\u001b[0m\n\u001b[0;32m     20\u001b[0m temp\u001b[38;5;241m=\u001b[39mhead\n\u001b[0;32m     21\u001b[0m \u001b[38;5;28;01mwhile\u001b[39;00m head:\n\u001b[1;32m---> 22\u001b[0m     \u001b[38;5;28mprint\u001b[39m(\u001b[43mtemp\u001b[49m\u001b[43m[\u001b[49m\u001b[38;5;124;43m\"\u001b[39;49m\u001b[38;5;124;43minfo\u001b[39;49m\u001b[38;5;124;43m\"\u001b[39;49m\u001b[43m]\u001b[49m,end\u001b[38;5;241m=\u001b[39m\u001b[38;5;124m\"\u001b[39m\u001b[38;5;124m,\u001b[39m\u001b[38;5;124m\"\u001b[39m)\n\u001b[0;32m     23\u001b[0m     temp\u001b[38;5;241m=\u001b[39mtemp[\u001b[38;5;124m\"\u001b[39m\u001b[38;5;124mlink\u001b[39m\u001b[38;5;124m\"\u001b[39m]\n",
      "\u001b[1;31mTypeError\u001b[0m: 'NoneType' object is not subscriptable"
     ]
    }
   ],
   "source": [
    "###Lab9 18 Mar 2025\n",
    "###Sinlgy linked list usign dictionary\n",
    "head =None\n",
    "\n",
    "def insert(node):\n",
    "    global head\n",
    "    if head==None:\n",
    "        head=node\n",
    "        return\n",
    "    temp=head\n",
    "    while temp[\"link\"]:\n",
    "        temp=temp[\"link\"]\n",
    "    temp[\"link\"]=node\n",
    "\n",
    "def display():\n",
    "    global head\n",
    "    if head==None:\n",
    "        print(\"List is empty\")\n",
    "        return\n",
    "    temp=head\n",
    "    while head:\n",
    "        print(temp[\"info\"],end=\",\")\n",
    "        temp=temp[\"link\"]\n",
    "\n",
    "for item in [2,6,7,2,8]:\n",
    "    node={\n",
    "        \"info\":item,\n",
    "        \"link\":None\n",
    "    }\n",
    "    insert(node)\n",
    "    \n",
    "display()"
   ]
  },
  {
   "cell_type": "code",
   "execution_count": 4,
   "id": "0c384c17-6b98-4118-935b-fcfe6bd5ad74",
   "metadata": {},
   "outputs": [
    {
     "name": "stdout",
     "output_type": "stream",
     "text": [
      "2, 6, 7, 2, 8, "
     ]
    }
   ],
   "source": [
    "head = None\n",
    "\n",
    "def insert(node):\n",
    "    global head\n",
    "    if head == None:\n",
    "        head = node\n",
    "        return\n",
    "    temp = head\n",
    "    while temp[\"link\"]:\n",
    "        temp = temp[\"link\"]\n",
    "    temp[\"link\"] = node\n",
    "\n",
    "def display():\n",
    "    global head\n",
    "    if head == None:\n",
    "        print(\"List is empty\")\n",
    "        return\n",
    "    temp = head\n",
    "    while temp:  # Traverse until temp is None\n",
    "        print(temp[\"info\"], end=\", \")\n",
    "        temp = temp[\"link\"]  # Move to the next node\n",
    "\n",
    "for item in [2, 6, 7, 2, 8]:\n",
    "    node = {\n",
    "        \"info\": item,\n",
    "        \"link\": None\n",
    "    }\n",
    "    insert(node)\n",
    "    \n",
    "display()\n"
   ]
  },
  {
   "cell_type": "code",
   "execution_count": 8,
   "id": "18416867-957c-41ab-99a0-f37379d98be7",
   "metadata": {},
   "outputs": [
    {
     "name": "stdout",
     "output_type": "stream",
     "text": [
      "Yes,there is at least one match!\n",
      "['paramesha.k@gmail.com', 'paramesha.k@yahoo.co']\n"
     ]
    }
   ],
   "source": [
    "#write a python prorgam to extract telephone numbers or phone numbers from a text file.###using regular expression\n",
    "import re\n",
    "txt=r\"my email  id is paramesha.k@gmail.com and i have another paramesha.k@yahoo.co.in\"\n",
    "x=re.findall(r\"[0-9a-zA-Z_.]+@[0-9a-zA-Z]+[.][A-Za-z]{2,4}\",txt)\n",
    "\n",
    "if x:\n",
    "    print(\"Yes,there is at least one match!\")\n",
    "    print(x)\n",
    "else:\n",
    "    print(\"No match\")"
   ]
  },
  {
   "cell_type": "code",
   "execution_count": null,
   "id": "020b8507-c633-4d70-94a9-58f283b9065b",
   "metadata": {},
   "outputs": [],
   "source": [
    "###find positive,negative numbers in a text file\n",
    "#4. Digital Legacy Platform\n",
    "#Description: A platform to store and manage digital assets like photos, videos, documents, and even messages for future generations. Users can leave digital messages, instructions, or assets that will be accessible to their loved ones after a set time (like a \"time capsule\").\n",
    "#Features:\n",
    "#User registration and profile management\n",
    "#Upload and categorize digital assets (photos, videos, documents)\n",
    "#Create time-sensitive assets with a set date for release (e.g., messages for loved ones)\n",
    "#Ability to add video/audio messages, letters, etc., for posthumous release\n",
    "#Secure access and inheritance system for loved ones or executors\n",
    "#Tech Stack: MySQL (for storing assets, messages, and users), Node.js (Backend), React.js (Frontend)"
   ]
  },
  {
   "cell_type": "code",
   "execution_count": 10,
   "id": "1dfa510d-10ec-4a0c-b864-0b3a52bf343c",
   "metadata": {},
   "outputs": [
    {
     "name": "stdout",
     "output_type": "stream",
     "text": [
      "Yes, there is at least one email match!\n",
      "['john.doe@example.com', 'jane_smith123@mydomain.co', 'support@company.com']\n"
     ]
    }
   ],
   "source": [
    "###for files\n",
    "import re\n",
    "\n",
    "# Specify the file path (change this to the actual path of your file)\n",
    "file_path = 'sample.txt'  # Replace with the actual file path\n",
    "\n",
    "# Open the file in read mode\n",
    "with open(file_path, 'r') as file:\n",
    "    # Read the contents of the file\n",
    "    file_content = file.read()\n",
    "\n",
    "# Regular expression pattern to match email addresses\n",
    "emails = re.findall(r\"[0-9a-zA-Z_.]+@[0-9a-zA-Z]+[.][A-Za-z]{2,4}\", file_content)\n",
    "\n",
    "# Check if any email addresses were found\n",
    "if emails:\n",
    "    print(\"Yes, there is at least one email match!\")\n",
    "    print(emails)\n",
    "else:\n",
    "    print(\"No match\")\n"
   ]
  },
  {
   "cell_type": "code",
   "execution_count": 12,
   "id": "9586c21a-04d1-4c8a-98d6-2cadcc63a564",
   "metadata": {},
   "outputs": [
    {
     "name": "stdin",
     "output_type": "stream",
     "text": [
      "Enter your password:   rk\n"
     ]
    },
    {
     "name": "stdout",
     "output_type": "stream",
     "text": [
      "Password is invalid! Ensure it meets the requirements:\n",
      "- Length between 6 to 16 characters\n",
      "- At least one lowercase letter\n",
      "- At least one uppercase letter\n",
      "- At least one number\n",
      "- At least one special character (#, @, $, _)\n"
     ]
    }
   ],
   "source": [
    "#A2)b):::validate the user password with minimum length=6 and maximu length=16 and must have at least one lower case letter,uppser case letter,\n",
    "#number and special symbol(#,@,$,_)\n",
    "import re\n",
    "\n",
    "# Function to validate password\n",
    "password = input(\"Enter your password: \")\n",
    "\n",
    "# Regular expression pattern for validation\n",
    "pattern = r'^(?=.*[a-z])(?=.*[A-Z])(?=.*\\d)(?=.*[#@$_]).{6,16}$'\n",
    "\n",
    "# Check if the password matches the pattern\n",
    "if re.match(pattern, password):\n",
    "    print(\"Password is valid!\")\n",
    "else:\n",
    "    print(\"Password is invalid! Ensure it meets the requirements:\")\n",
    "    print(\"- Length between 6 to 16 characters\")\n",
    "    print(\"- At least one lowercase letter\")\n",
    "    print(\"- At least one uppercase letter\")\n",
    "    print(\"- At least one number\")\n",
    "    print(\"- At least one special character (#, @, $, _)\")"
   ]
  },
  {
   "cell_type": "code",
   "execution_count": 13,
   "id": "b1288dd7-fd1d-47c9-87af-5e9562d52a6a",
   "metadata": {},
   "outputs": [
    {
     "data": {
      "text/plain": [
       "['A',\n",
       " 'ASCII',\n",
       " 'DEBUG',\n",
       " 'DOTALL',\n",
       " 'I',\n",
       " 'IGNORECASE',\n",
       " 'L',\n",
       " 'LOCALE',\n",
       " 'M',\n",
       " 'MULTILINE',\n",
       " 'Match',\n",
       " 'NOFLAG',\n",
       " 'Pattern',\n",
       " 'RegexFlag',\n",
       " 'S',\n",
       " 'Scanner',\n",
       " 'T',\n",
       " 'TEMPLATE',\n",
       " 'U',\n",
       " 'UNICODE',\n",
       " 'VERBOSE',\n",
       " 'X',\n",
       " '_MAXCACHE',\n",
       " '_MAXCACHE2',\n",
       " '__all__',\n",
       " '__builtins__',\n",
       " '__cached__',\n",
       " '__doc__',\n",
       " '__file__',\n",
       " '__loader__',\n",
       " '__name__',\n",
       " '__package__',\n",
       " '__path__',\n",
       " '__spec__',\n",
       " '__version__',\n",
       " '_cache',\n",
       " '_cache2',\n",
       " '_casefix',\n",
       " '_compile',\n",
       " '_compile_template',\n",
       " '_compiler',\n",
       " '_constants',\n",
       " '_parser',\n",
       " '_pickle',\n",
       " '_special_chars_map',\n",
       " '_sre',\n",
       " 'compile',\n",
       " 'copyreg',\n",
       " 'enum',\n",
       " 'error',\n",
       " 'escape',\n",
       " 'findall',\n",
       " 'finditer',\n",
       " 'fullmatch',\n",
       " 'functools',\n",
       " 'match',\n",
       " 'purge',\n",
       " 'search',\n",
       " 'split',\n",
       " 'sub',\n",
       " 'subn',\n",
       " 'template']"
      ]
     },
     "execution_count": 13,
     "metadata": {},
     "output_type": "execute_result"
    }
   ],
   "source": [
    "dir(re)"
   ]
  },
  {
   "cell_type": "code",
   "execution_count": 15,
   "id": "bd7650e7-6ed2-44bb-8c19-13fed76aa0f2",
   "metadata": {},
   "outputs": [
    {
     "name": "stdout",
     "output_type": "stream",
     "text": [
      "Help on function findall in module re:\n",
      "\n",
      "findall(pattern, string, flags=0)\n",
      "    Return a list of all non-overlapping matches in the string.\n",
      "\n",
      "    If one or more capturing groups are present in the pattern, return\n",
      "    a list of groups; this will be a list of tuples if the pattern\n",
      "    has more than one group.\n",
      "\n",
      "    Empty matches are included in the result.\n",
      "\n",
      "None\n"
     ]
    }
   ],
   "source": [
    "print(help(re.findall))"
   ]
  },
  {
   "cell_type": "code",
   "execution_count": null,
   "id": "e7e42768-bc2d-45fd-bc27-826cb0f64db6",
   "metadata": {},
   "outputs": [],
   "source": [
    "import re\n",
    "pwd=input(\"Enter a password : \")\n",
    "if not len(pwd)>5:\n",
    "    print(\"Invalid Passwod\")\n",
    "elif not len(pwd)<17:\n",
    "    print(\"Invalid Passwod\")\n",
    "elif not re.search('[a-z]',pwd):\n",
    "    print(\"Invalid Passwod\")\n",
    "elif not re.search('[A-Z]',pwd):\n",
    "    print(\"Invalid Passwod\")\n",
    "elif not re.search('[0-9]',pwd):\n",
    "    print(\"Invalid Passwod\")\n",
    "elif not re.search('[#@$_]',pwd):\n",
    "    print(\"Invalid Passwod\")\n"
   ]
  },
  {
   "cell_type": "code",
   "execution_count": 16,
   "id": "08922043-b2b8-4208-9a57-40c4788cd1cb",
   "metadata": {},
   "outputs": [
    {
     "name": "stdin",
     "output_type": "stream",
     "text": [
      "Enter your password:  whfw ehf\n"
     ]
    },
    {
     "ename": "TypeError",
     "evalue": "search() missing 1 required positional argument: 'string'",
     "output_type": "error",
     "traceback": [
      "\u001b[1;31m---------------------------------------------------------------------------\u001b[0m",
      "\u001b[1;31mTypeError\u001b[0m                                 Traceback (most recent call last)",
      "Cell \u001b[1;32mIn[16], line 7\u001b[0m\n\u001b[0;32m      4\u001b[0m password \u001b[38;5;241m=\u001b[39m \u001b[38;5;28minput\u001b[39m(\u001b[38;5;124m\"\u001b[39m\u001b[38;5;124mEnter your password: \u001b[39m\u001b[38;5;124m\"\u001b[39m)\n\u001b[0;32m      6\u001b[0m \u001b[38;5;66;03m# Regular expression pattern for validation\u001b[39;00m\n\u001b[1;32m----> 7\u001b[0m pattern \u001b[38;5;241m=\u001b[39m \u001b[43mre\u001b[49m\u001b[38;5;241;43m.\u001b[39;49m\u001b[43msearch\u001b[49m\u001b[43m(\u001b[49m\u001b[38;5;124;43mr\u001b[39;49m\u001b[38;5;124;43m'\u001b[39;49m\u001b[38;5;124;43m^(?=.*[a-z])(?=.*[A-Z])(?=.*\u001b[39;49m\u001b[38;5;124;43m\\\u001b[39;49m\u001b[38;5;124;43md)(?=.*[#@$_]).\u001b[39;49m\u001b[38;5;124;43m{\u001b[39;49m\u001b[38;5;124;43m6,16}$\u001b[39;49m\u001b[38;5;124;43m'\u001b[39;49m\u001b[43m)\u001b[49m\n\u001b[0;32m      8\u001b[0m \u001b[38;5;28;01mif\u001b[39;00m \u001b[38;5;129;01mnot\u001b[39;00m patter:\n\u001b[0;32m      9\u001b[0m     \u001b[38;5;28mprint\u001b[39m(\u001b[38;5;124m\"\u001b[39m\u001b[38;5;124mInvalid password\u001b[39m\u001b[38;5;124m\"\u001b[39m)\n",
      "\u001b[1;31mTypeError\u001b[0m: search() missing 1 required positional argument: 'string'"
     ]
    }
   ],
   "source": [
    "import re\n",
    "\n",
    "# Function to validate password\n",
    "password = input(\"Enter your password: \")\n",
    "\n",
    "# Regular expression pattern for validation\n",
    "pattern = re.search(r'^(?=.*[a-z])(?=.*[A-Z])(?=.*\\d)|([#@$_])).{6,16}$')\n",
    "if not patter:\n",
    "    print(\"Invalid password\")\n",
    "else :\n",
    "    print(s.groups())\n",
    "    if None in s.groups():\n",
    "        print(\"invlid password\")\n",
    "    else:\n",
    "        print(\"Valid Password\")"
   ]
  }
 ],
 "metadata": {
  "kernelspec": {
   "display_name": "Python 3 (ipykernel)",
   "language": "python",
   "name": "python3"
  },
  "language_info": {
   "codemirror_mode": {
    "name": "ipython",
    "version": 3
   },
   "file_extension": ".py",
   "mimetype": "text/x-python",
   "name": "python",
   "nbconvert_exporter": "python",
   "pygments_lexer": "ipython3",
   "version": "3.12.2"
  }
 },
 "nbformat": 4,
 "nbformat_minor": 5
}
