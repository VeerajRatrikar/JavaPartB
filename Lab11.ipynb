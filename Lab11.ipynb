{
 "cells": [
  {
   "cell_type": "code",
   "execution_count": 1,
   "id": "2c378163-377c-4ff0-bfa3-bbad879b90c9",
   "metadata": {},
   "outputs": [
    {
     "name": "stdout",
     "output_type": "stream",
     "text": [
      "Yes, there is at least one email match!\n",
      "['abc@gmail.com', 'wue@vvce.ac', 'luffy@gmail.com']\n"
     ]
    }
   ],
   "source": [
    "###Lab11 25Mar25\n",
    "###Extract email from a file\n",
    "import re\n",
    "\n",
    "# Specify the file path (change this to the actual path of your file)\n",
    "file_path = 'sample.txt'  # Replace with the actual file path\n",
    "\n",
    "# Open the file in read mode\n",
    "with open(file_path, 'r') as file:\n",
    "    # Read the contents of the file\n",
    "    file_content = file.read()\n",
    "\n",
    "# Regular expression pattern to match email addresses\n",
    "emails = re.findall(r\"[0-9a-zA-Z_.]+@[0-9a-zA-Z]+[.][A-Za-z]{2,4}\", file_content)\n",
    "\n",
    "# Check if any email addresses were found\n",
    "if emails:\n",
    "    print(\"Yes, there is at least one email match!\")\n",
    "    print(emails)\n",
    "else:\n",
    "    print(\"No match\")"
   ]
  },
  {
   "cell_type": "code",
   "execution_count": 8,
   "id": "9070eb74-f135-4b8d-bdf0-64eccfd72492",
   "metadata": {},
   "outputs": [
    {
     "name": "stdout",
     "output_type": "stream",
     "text": [
      "['__add__', '__class__', '__contains__', '__delattr__', '__dir__', '__doc__', '__eq__', '__format__', '__ge__', '__getattribute__', '__getitem__', '__getnewargs__', '__getstate__', '__gt__', '__hash__', '__init__', '__init_subclass__', '__iter__', '__le__', '__len__', '__lt__', '__mod__', '__mul__', '__ne__', '__new__', '__reduce__', '__reduce_ex__', '__repr__', '__rmod__', '__rmul__', '__setattr__', '__sizeof__', '__str__', '__subclasshook__', 'capitalize', 'casefold', 'center', 'count', 'encode', 'endswith', 'expandtabs', 'find', 'format', 'format_map', 'index', 'isalnum', 'isalpha', 'isascii', 'isdecimal', 'isdigit', 'isidentifier', 'islower', 'isnumeric', 'isprintable', 'isspace', 'istitle', 'isupper', 'join', 'ljust', 'lower', 'lstrip', 'maketrans', 'partition', 'removeprefix', 'removesuffix', 'replace', 'rfind', 'rindex', 'rjust', 'rpartition', 'rsplit', 'rstrip', 'split', 'splitlines', 'startswith', 'strip', 'swapcase', 'title', 'translate', 'upper', 'zfill']\n"
     ]
    }
   ],
   "source": [
    "import numpy as np\n",
    "print(dir('numpy'))\n",
    "#magic methods"
   ]
  },
  {
   "cell_type": "code",
   "execution_count": 10,
   "id": "51473a3a-d66c-46fd-9c84-edbaa99456dd",
   "metadata": {},
   "outputs": [
    {
     "name": "stdout",
     "output_type": "stream",
     "text": [
      "Original array:\n",
      "[(b'amiths', 5, 48) (b'dhanush', 6, 53) (b'hemanth', 5, 42)\n",
      " (b'hit', 5, 40)]\n",
      "\n",
      "Sorted array by height:\n",
      "[(b'hit', 5, 40) (b'hemanth', 5, 42) (b'amiths', 5, 48)\n",
      " (b'dhanush', 6, 53)]\n"
     ]
    }
   ],
   "source": [
    "###Program 3: Write a NumPy program to create a structured array from given student name,height,class and their\n",
    "#data types.Finally sort the array on height.\n",
    "\n",
    "import numpy as np\n",
    "#Defining the data types for the structured array\n",
    "data_type =[('name','S15'),('class',int),('height',int)]##use U15 unicode string for printing without b\n",
    "#string 15 length\n",
    "#creating a  structured array 'students'using the definiton\n",
    "students=np.zeros(4,dtype=data_type)\n",
    "\n",
    "students['name']=['amiths','dhanush','hemanth','hit']\n",
    "students['class']=[5,6,5,5]\n",
    "students['height'] = [48.5, 53,42.5, 40]\n",
    "\n",
    "print(\"Original array:\")\n",
    "print(students)\n",
    "\n",
    "# Sorting the array by height\n",
    "sorted_students = np.sort(students, order='height')\n",
    "\n",
    "# Printing sorted array\n",
    "print(\"\\nSorted array by height:\")\n",
    "print(sorted_students)"
   ]
  },
  {
   "cell_type": "code",
   "execution_count": 2,
   "id": "ad623b26-bd9c-41a4-af64-44f2e90a7fd8",
   "metadata": {},
   "outputs": [
    {
     "name": "stdout",
     "output_type": "stream",
     "text": [
      "    id    area agent  price   size   Unnamed: 5  Unnamed: 6  Unnamed: 7  \\\n",
      "0  1.0  1111.0     a   62.5    3.5          NaN         NaN         NaN   \n",
      "1  2.0  1111.0     b   65.5   3.75          NaN         NaN         NaN   \n",
      "2  3.0  1112.0     b   23.5    2.3          NaN         NaN         NaN   \n",
      "3  4.0  1111.0     b   59.3  2..75          NaN         NaN         NaN   \n",
      "4  5.0  1112.0     a   26.5       1         NaN         NaN         NaN   \n",
      "5  NaN     NaN   NaN    NaN     NaN         NaN         NaN         NaN   \n",
      "6  NaN     NaN   NaN    NaN     NaN         NaN         NaN         NaN   \n",
      "7  NaN     NaN   NaN    NaN     NaN         NaN         NaN         NaN   \n",
      "8  NaN     NaN   NaN    NaN     NaN         NaN         NaN         NaN   \n",
      "\n",
      "   Unnamed: 8  Unnamed: 9  \n",
      "0         NaN         NaN  \n",
      "1         NaN         NaN  \n",
      "2         NaN         NaN  \n",
      "3         NaN         NaN  \n",
      "4         NaN         NaN  \n",
      "5         NaN         NaN  \n",
      "6         NaN         NaN  \n",
      "7         NaN         NaN  \n",
      "8         NaN         NaN  \n",
      "agent      a     b\n",
      "area              \n",
      "1111.0  62.5  62.4\n",
      "1112.0  26.5  23.5\n"
     ]
    }
   ],
   "source": [
    "###Group by steps : split ,apply  ,combine\n",
    "import pandas as pd\n",
    "df=pd.read_csv(\"sample1.csv\")\n",
    "print(df)\n",
    "gg=pd.pivot_table(df,index='area',columns='agent',values='price', aggfunc='mean')\n",
    "print(gg)"
   ]
  }
 ],
 "metadata": {
  "kernelspec": {
   "display_name": "Python 3 (ipykernel)",
   "language": "python",
   "name": "python3"
  },
  "language_info": {
   "codemirror_mode": {
    "name": "ipython",
    "version": 3
   },
   "file_extension": ".py",
   "mimetype": "text/x-python",
   "name": "python",
   "nbconvert_exporter": "python",
   "pygments_lexer": "ipython3",
   "version": "3.13.0"
  }
 },
 "nbformat": 4,
 "nbformat_minor": 5
}
