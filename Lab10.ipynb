{
 "cells": [
  {
   "cell_type": "code",
   "execution_count": 33,
   "id": "e9aa04bf-ae67-47bd-a843-5f1cf5a32cce",
   "metadata": {},
   "outputs": [
    {
     "name": "stdin",
     "output_type": "stream",
     "text": [
      "Enter Side:1 1\n",
      "Enter Side:2 1\n",
      "Enter Side:3 1\n"
     ]
    },
    {
     "name": "stdout",
     "output_type": "stream",
     "text": [
      "The sides of Polygon are:\n",
      "Side:1 1.0\n",
      "Side:2 1.0\n",
      "Side:3 1.0\n",
      "Computing the area..........\n",
      "Area of the triangle: 0.4330127018922193\n"
     ]
    }
   ],
   "source": [
    "###Lab10 : 19 Mar 2025\n",
    "###Program to find the area of polygon i.e. triangle\n",
    "import math\n",
    "class Polygon:\n",
    "    def __init__(self,noSides):\n",
    "        self.no_of_sides = noSides\n",
    "        self.sides=[]\n",
    "    def inputSides(self):\n",
    "\n",
    "        for side in range(0,self.no_of_sides):\n",
    "            s=float(input(\"Enter Side:\"+str(side+1)))\n",
    "            self.sides.append(s)\n",
    "\n",
    "    def displaySides(self):\n",
    "        print(\"The sides of Polygon are:\")\n",
    "        for side in range(0,self.no_of_sides):\n",
    "            print(\"Side:\"+str(side+1),self.sides[side])\n",
    "            \n",
    "    def findArea(self):\n",
    "        print(\"Computing the area..........\")\n",
    "        pass\n",
    "\n",
    "    def calculatePerimeter(self):\n",
    "        s=sum(self.sides)/2\n",
    "        return s\n",
    "\n",
    "class Triangle(Polygon):\n",
    "    def __init__(self):\n",
    "        super().__init__(3)\n",
    "\n",
    "    def findArea(self):\n",
    "        super().findArea()\n",
    "        s=self.calculatePerimeter()\n",
    "        a,b,c=self.sides\n",
    "        if a>(b+c) or b>(a+c) or c>(a+b):\n",
    "            return False\n",
    "        area=math.sqrt(s*(s-a)*(s-b)*(s-c))\n",
    "        return area\n",
    "        #alternative area = (s*(s-a)*(s-b)*(s-c)) **0.5\n",
    "\n",
    "t = Triangle()\n",
    "t.inputSides()\n",
    "t.displaySides()\n",
    "area = t.findArea()\n",
    "print(\"Area of the triangle:\", area)\n"
   ]
  },
  {
   "cell_type": "code",
   "execution_count": 21,
   "id": "4175f4a4-1430-42fc-8db4-b8ab127a0057",
   "metadata": {},
   "outputs": [
    {
     "name": "stdin",
     "output_type": "stream",
     "text": [
      "Enter Side: 1 7\n",
      "Enter Side: 2 7\n",
      "Enter Side: 3 7\n"
     ]
    },
    {
     "name": "stdout",
     "output_type": "stream",
     "text": [
      "The sides of the Polygon are:\n",
      "Side 1: 7.0\n",
      "Side 2: 7.0\n",
      "Side 3: 7.0\n",
      "Computing the area..........\n",
      "Area of the triangle: 21.21762239271875\n"
     ]
    }
   ],
   "source": [
    "import math\n",
    "\n",
    "class Polygon:\n",
    "    def __init__(self, noSides):\n",
    "        self.no_of_sides = noSides\n",
    "        self.sides = []\n",
    "\n",
    "    def inputSides(self):\n",
    "        for side in range(0, self.no_of_sides):\n",
    "            s = float(input(\"Enter Side: \" + str(side + 1)))\n",
    "            self.sides.append(s)\n",
    "\n",
    "    def displaySides(self):\n",
    "        print(\"The sides of the Polygon are:\")\n",
    "        for side in range(0, self.no_of_sides):\n",
    "            print(\"Side \" + str(side + 1) + \": \" + str(self.sides[side]))\n",
    "\n",
    "    def findArea(self):\n",
    "        print(\"Computing the area..........\")\n",
    "        pass\n",
    "\n",
    "    def calculatePerimeter(self):\n",
    "        s = sum(self.sides) / 2\n",
    "        return s\n",
    "\n",
    "class Triangle(Polygon):\n",
    "    def __init__(self):\n",
    "        super().__init__(3)\n",
    "\n",
    "    def findArea(self):\n",
    "        super().findArea()\n",
    "        s = self.calculatePerimeter()\n",
    "        a, b, c = self.sides\n",
    "        if a + b <= c or a + c <= b or b + c <= a:\n",
    "            return \"Not a valid triangle\"\n",
    "        area = math.sqrt(s * (s - a) * (s - b) * (s - c))\n",
    "        return area\n",
    "\n",
    "t = Triangle()\n",
    "t.inputSides()\n",
    "t.displaySides()\n",
    "area = t.findArea()\n",
    "if area:\n",
    "    print(\"The Area of the triangle:\", area)\n",
    "else:\n",
    "    print(\"Entered sides are not correct!! as the sum of two side lengths has\")"
   ]
  },
  {
   "cell_type": "code",
   "execution_count": 35,
   "id": "cbb1fd3f-7cfa-4c90-85c2-c5eea2f72887",
   "metadata": {},
   "outputs": [
    {
     "name": "stdin",
     "output_type": "stream",
     "text": [
      "Enter the number of employees you want to add:  3\n",
      "Enter employee name:  abc\n",
      "Enter employee place:  abc\n",
      "Enter employee department:  abc\n",
      "Enter employee name:  abc\n",
      "Enter employee place:  def\n",
      "Enter employee department:  def\n",
      "Enter employee name:  def\n",
      "Enter employee place:  def\n",
      "Enter employee department:  def\n"
     ]
    },
    {
     "name": "stdout",
     "output_type": "stream",
     "text": [
      "\n",
      "Employee Details:\n",
      "Employee ID: 1\n",
      "Name: abc\n",
      "Place: abc\n",
      "Department: abc\n",
      "\n",
      "Employee ID: 2\n",
      "Name: abc\n",
      "Place: def\n",
      "Department: def\n",
      "\n",
      "Employee ID: 3\n",
      "Name: def\n",
      "Place: def\n",
      "Department: def\n",
      "\n"
     ]
    }
   ],
   "source": [
    "###3rd prorgam STRUCTURED ENQUIRY\n",
    "###C1:Develop a pythin program to store and display Employee details such as EID,Name,Place, and Department.\n",
    "###The EID must be auto-generated for each employee\n",
    "class Employee:\n",
    "    employee_count = 0\n",
    "\n",
    "    def __init__(self, name, place, department):\n",
    "        Employee.employee_count += 1\n",
    "        self.EID = Employee.employee_count\n",
    "        self.name = name\n",
    "        self.place = place\n",
    "        self.department = department\n",
    "\n",
    "    def display_employee_details(self):\n",
    "        print(f\"Employee ID: {self.EID}\")\n",
    "        print(f\"Name: {self.name}\")\n",
    "        print(f\"Place: {self.place}\")\n",
    "        print(f\"Department: {self.department}\")\n",
    "        print()\n",
    "\n",
    "def main():\n",
    "    n = int(input(\"Enter the number of employees you want to add: \"))\n",
    "    employees = []\n",
    "    \n",
    "    for _ in range(n):\n",
    "        name = input(\"Enter employee name: \")\n",
    "        place = input(\"Enter employee place: \")\n",
    "        department = input(\"Enter employee department: \")\n",
    "\n",
    "        employee = Employee(name, place, department)\n",
    "        employees.append(employee)\n",
    "\n",
    "    print(\"\\nEmployee Details:\")\n",
    "    for emp in employees:\n",
    "        emp.display_employee_details()\n",
    "\n",
    "if __name__ == \"__main__\":\n",
    "    main()"
   ]
  },
  {
   "cell_type": "code",
   "execution_count": 37,
   "id": "1bf44b87-a979-4219-9c78-5270b29c9d9a",
   "metadata": {},
   "outputs": [
    {
     "name": "stdin",
     "output_type": "stream",
     "text": [
      "Enter the number of employees you want to add:  2\n",
      "Enter employee name:  qw\n",
      "Enter employee place:  qw\n",
      "Enter employee department:  qw\n",
      "Enter employee name:  ab\n",
      "Enter employee place:  ab\n",
      "Enter employee department:  ab\n"
     ]
    },
    {
     "name": "stdout",
     "output_type": "stream",
     "text": [
      "\n",
      "Employee Details:\n",
      "Employee ID: 1\n",
      "Name: qw\n",
      "Place: qw\n",
      "Department: qw\n",
      "\n",
      "Employee ID: 2\n",
      "Name: ab\n",
      "Place: ab\n",
      "Department: ab\n",
      "\n"
     ]
    }
   ],
   "source": [
    "#using dictionary\n",
    "class Employee:\n",
    "    employee_count = 0\n",
    "\n",
    "    def __init__(self, name, place, department):\n",
    "        Employee.employee_count += 1\n",
    "        self.EID = Employee.employee_count\n",
    "        self.name = name\n",
    "        self.place = place\n",
    "        self.department = department\n",
    "\n",
    "    def display_employee_details(self):\n",
    "        print(f\"Employee ID: {self.EID}\")\n",
    "        print(f\"Name: {self.name}\")\n",
    "        print(f\"Place: {self.place}\")\n",
    "        print(f\"Department: {self.department}\")\n",
    "        print()\n",
    "\n",
    "def main():\n",
    "    n = int(input(\"Enter the number of employees you want to add: \"))\n",
    "    employees = {}\n",
    "    \n",
    "    for _ in range(n):\n",
    "        name = input(\"Enter employee name: \")\n",
    "        place = input(\"Enter employee place: \")\n",
    "        department = input(\"Enter employee department: \")\n",
    "\n",
    "        employee = Employee(name, place, department)\n",
    "        employees[employee.EID] = employee\n",
    "\n",
    "    print(\"\\nEmployee Details:\")\n",
    "    for eid, emp in employees.items():\n",
    "        emp.display_employee_details()\n",
    "\n",
    "if __name__ == \"__main__\":\n",
    "    main()\n"
   ]
  }
 ],
 "metadata": {
  "kernelspec": {
   "display_name": "Python 3 (ipykernel)",
   "language": "python",
   "name": "python3"
  },
  "language_info": {
   "codemirror_mode": {
    "name": "ipython",
    "version": 3
   },
   "file_extension": ".py",
   "mimetype": "text/x-python",
   "name": "python",
   "nbconvert_exporter": "python",
   "pygments_lexer": "ipython3",
   "version": "3.12.4"
  }
 },
 "nbformat": 4,
 "nbformat_minor": 5
}
